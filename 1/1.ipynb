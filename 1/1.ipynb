{
 "cells": [
  {
   "cell_type": "code",
   "id": "initial_id",
   "metadata": {
    "collapsed": true,
    "ExecuteTime": {
     "end_time": "2024-12-05T07:53:18.873075Z",
     "start_time": "2024-12-05T07:53:18.868705Z"
    }
   },
   "source": [
    "import pandas as pd\n",
    "import sys"
   ],
   "outputs": [],
   "execution_count": 1
  },
  {
   "metadata": {
    "ExecuteTime": {
     "end_time": "2024-12-05T07:53:18.882517Z",
     "start_time": "2024-12-05T07:53:18.874557Z"
    }
   },
   "cell_type": "code",
   "source": "sys.path.append(\"../\")",
   "id": "12a20547eaae47ce",
   "outputs": [],
   "execution_count": 2
  },
  {
   "metadata": {
    "ExecuteTime": {
     "end_time": "2024-12-05T07:57:02.379914Z",
     "start_time": "2024-12-05T07:57:02.367291Z"
    }
   },
   "cell_type": "code",
   "source": [
    "file_path = 'input.txt'\n",
    "\n",
    "df = pd.read_csv(file_path, delim_whitespace=True, header=None, names=['number1', 'number2'])\n",
    "\n",
    "number1_list = df['number1'].tolist()\n",
    "number2_list = df['number2'].tolist()"
   ],
   "id": "10f243516793b51d",
   "outputs": [],
   "execution_count": 5
  },
  {
   "metadata": {
    "ExecuteTime": {
     "end_time": "2024-12-05T08:01:28.235270Z",
     "start_time": "2024-12-05T08:01:28.155495Z"
    }
   },
   "cell_type": "code",
   "source": [
    "total_dist = 0\n",
    "while len(number1_list) > 0 and len(number2_list) > 0:\n",
    "    min_index1, min_value1 = min(enumerate(number1_list), key=lambda x: x[1])\n",
    "    min_index2, min_value2 = min(enumerate(number2_list), key=lambda x: x[1])\n",
    "    \n",
    "    number1_list.pop(min_index1)\n",
    "    number2_list.pop(min_index2)\n",
    "    total_dist += abs(min_value1-min_value2)"
   ],
   "id": "eb1682a251f8be30",
   "outputs": [],
   "execution_count": 13
  },
  {
   "metadata": {
    "ExecuteTime": {
     "end_time": "2024-12-05T08:01:34.957569Z",
     "start_time": "2024-12-05T08:01:34.949518Z"
    }
   },
   "cell_type": "code",
   "source": "total_dist",
   "id": "9732f5ae7ee9f063",
   "outputs": [
    {
     "data": {
      "text/plain": [
       "1341714"
      ]
     },
     "execution_count": 15,
     "metadata": {},
     "output_type": "execute_result"
    }
   ],
   "execution_count": 15
  },
  {
   "metadata": {},
   "cell_type": "code",
   "outputs": [],
   "execution_count": null,
   "source": "",
   "id": "f78ce2fc47a113fb"
  }
 ],
 "metadata": {
  "kernelspec": {
   "display_name": "Python 3",
   "language": "python",
   "name": "python3"
  },
  "language_info": {
   "codemirror_mode": {
    "name": "ipython",
    "version": 2
   },
   "file_extension": ".py",
   "mimetype": "text/x-python",
   "name": "python",
   "nbconvert_exporter": "python",
   "pygments_lexer": "ipython2",
   "version": "2.7.6"
  }
 },
 "nbformat": 4,
 "nbformat_minor": 5
}
